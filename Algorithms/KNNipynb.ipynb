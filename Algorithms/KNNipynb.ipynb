{
  "nbformat": 4,
  "nbformat_minor": 0,
  "metadata": {
    "colab": {
      "name": "KNNipynb",
      "provenance": [],
      "collapsed_sections": []
    },
    "kernelspec": {
      "name": "python3",
      "display_name": "Python 3"
    },
    "language_info": {
      "name": "python"
    }
  },
  "cells": [
    {
      "cell_type": "code",
      "metadata": {
        "id": "n36mauKV36mA"
      },
      "source": [
        "import numpy as np\n",
        "import math\n",
        "from matplotlib import pyplot as plt\n",
        "from collections import Counter"
      ],
      "execution_count": null,
      "outputs": []
    },
    {
      "cell_type": "code",
      "metadata": {
        "id": "peEeEW-w3_A1"
      },
      "source": [
        "def euclidean_distance(x1, x2):\n",
        "    return np.sqrt(np.sum((x1 - x2) ** 2))"
      ],
      "execution_count": null,
      "outputs": []
    },
    {
      "cell_type": "code",
      "metadata": {
        "id": "6do_jOGVtDcM"
      },
      "source": [
        "def distance(x1,x2,y1,y2):\n",
        "    dif1 = euclidean_distance(x1,x2)\n",
        "    dif2 = euclidean_distance(y1,y2)\n",
        "    return dif1+dif2"
      ],
      "execution_count": null,
      "outputs": []
    },
    {
      "cell_type": "code",
      "metadata": {
        "id": "Ahyq9BOlB4bd"
      },
      "source": [
        "def minorDist(vet,neighborns):\n",
        "  arrayDist = [0 for x in range(neighborns)]\n",
        "  arrayDist.clear()\n",
        "  vet.sort()\n",
        "  for i in range(neighborns):\n",
        "    arrayDist.append(vet[i])\n",
        "  return arrayDist"
      ],
      "execution_count": null,
      "outputs": []
    },
    {
      "cell_type": "code",
      "metadata": {
        "id": "G-RtyM-la-yV"
      },
      "source": [
        "def indexDist(arrayDist,minorDist,neighborns):\n",
        "  array = [0 for x in range(neighborns)]\n",
        "  array.clear()\n",
        "  for j in range(len(minorDist)):\n",
        "    for y in range(len(arrayDist)):\n",
        "      if(arrayDist[y]==minorDist[j]):\n",
        "        array.append(y)\n",
        "  return array"
      ],
      "execution_count": null,
      "outputs": []
    },
    {
      "cell_type": "code",
      "metadata": {
        "id": "4fbzgbjv2QKY"
      },
      "source": [
        "def knn(neighborns,size,xs,xy):\n",
        "  arrayDist = [0 for x in range(size)]\n",
        "  arrayIndex = [0 for x in range(size)]\n",
        "  arrayDist.clear()\n",
        "  arrayIndex.clear()\n",
        "  for i in range(size):\n",
        "    for y in range(size):\n",
        "      dist = distance(xs[i],xs[y],ys[i],ys[y])\n",
        "      if(i==y):\n",
        "        dist= 9999\n",
        "      arrayDist.append(dist)\n",
        "    auxArrayDist = arrayDist[:]\n",
        "    mD= minorDist(arrayDist,neighborns)\n",
        "    print(\"As distancias sao \",auxArrayDist)\n",
        "    print(\"As menores distancias sao \", mD)\n",
        "    iD = indexDist(auxArrayDist,mD,neighborns)\n",
        "    print(\"Os indices proximos sao \",iD)\n",
        "    arrayDist.clear()\n"
      ],
      "execution_count": null,
      "outputs": []
    },
    {
      "cell_type": "code",
      "metadata": {
        "id": "8mIunma7_tNi"
      },
      "source": [
        "N = 10\n",
        "xs = np.random.random_sample((5,))\n",
        "ys = np.random.random_sample((5,))"
      ],
      "execution_count": null,
      "outputs": []
    },
    {
      "cell_type": "code",
      "metadata": {
        "id": "GdSx4JQvLzr6",
        "colab": {
          "base_uri": "https://localhost:8080/"
        },
        "outputId": "6f94a55d-a656-4d18-9d5d-0f60005f067d"
      },
      "source": [
        "xs"
      ],
      "execution_count": null,
      "outputs": [
        {
          "output_type": "execute_result",
          "data": {
            "text/plain": [
              "array([0.28598017, 0.04400139, 0.89801626, 0.97292969, 0.40008034])"
            ]
          },
          "metadata": {},
          "execution_count": 225
        }
      ]
    },
    {
      "cell_type": "code",
      "metadata": {
        "id": "ZulxNWy6L0a5",
        "colab": {
          "base_uri": "https://localhost:8080/"
        },
        "outputId": "09492f7f-6d54-474b-9a55-396468182ca6"
      },
      "source": [
        "ys"
      ],
      "execution_count": null,
      "outputs": [
        {
          "output_type": "execute_result",
          "data": {
            "text/plain": [
              "array([0.15799749, 0.18906131, 0.19338976, 0.99002694, 0.18675913])"
            ]
          },
          "metadata": {},
          "execution_count": 226
        }
      ]
    },
    {
      "cell_type": "code",
      "metadata": {
        "id": "YktoqwGHyIUP",
        "colab": {
          "base_uri": "https://localhost:8080/",
          "height": 265
        },
        "outputId": "6fc16f0f-6734-492e-d11e-2e3bc5c7807a"
      },
      "source": [
        "plt.scatter(xs,ys)\n",
        "plt.show()"
      ],
      "execution_count": null,
      "outputs": [
        {
          "output_type": "display_data",
          "data": {
            "image/png": "[encoded data removed]",
            "text/plain": [
              "<Figure size 432x288 with 1 Axes>"
            ]
          },
          "metadata": {
            "needs_background": "light"
          }
        }
      ]
    },
    {
      "cell_type": "code",
      "metadata": {
        "colab": {
          "base_uri": "https://localhost:8080/"
        },
        "id": "gCgDlBH87EjW",
        "outputId": "98ce7ee7-481d-4ce0-ac27-a329f165b420"
      },
      "source": [
        "knn(2,5,xs,ys)"
      ],
      "execution_count": null,
      "outputs": [
        {
          "output_type": "stream",
          "name": "stdout",
          "text": [
            "As distancias sao  [9999, 0.2730425958599194, 0.6474283665030915, 1.5189789820999628, 0.14286181722086888]\n",
            "As menores distancias sao  [0.14286181722086888, 0.2730425958599194]\n",
            "Os indices proximos sao  [4, 1]\n",
            "As distancias sao  [0.2730425958599194, 9999, 0.8583433170864867, 1.7298939326833578, 0.3583811181703753]\n",
            "As menores distancias sao  [0.2730425958599194, 0.3583811181703753]\n",
            "Os indices proximos sao  [0, 4]\n",
            "As distancias sao  [0.6474283665030915, 0.8583433170864867, 9999, 0.8715506155968712, 0.5045665492822227]\n",
            "As menores distancias sao  [0.5045665492822227, 0.6474283665030915]\n",
            "Os indices proximos sao  [4, 0]\n",
            "As distancias sao  [1.5189789820999628, 1.7298939326833578, 0.8715506155968712, 9999, 1.3761171648790937]\n",
            "As menores distancias sao  [0.8715506155968712, 1.3761171648790937]\n",
            "Os indices proximos sao  [2, 4]\n",
            "As distancias sao  [0.14286181722086888, 0.3583811181703753, 0.5045665492822227, 1.3761171648790937, 9999]\n",
            "As menores distancias sao  [0.14286181722086888, 0.3583811181703753]\n",
            "Os indices proximos sao  [0, 1]\n"
          ]
        }
      ]
    }
  ]
}