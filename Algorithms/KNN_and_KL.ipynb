{
  "nbformat": 4,
  "nbformat_minor": 0,
  "metadata": {
    "colab": {
      "name": "KNN and KL",
      "provenance": [],
      "collapsed_sections": []
    },
    "kernelspec": {
      "display_name": "Python 3",
      "name": "python3"
    },
    "language_info": {
      "name": "python"
    }
  },
  "cells": [
    {
      "cell_type": "markdown",
      "metadata": {
        "id": "456V7-ip-Xna"
      },
      "source": [
        "# KNN"
      ]
    },
    {
      "cell_type": "code",
      "metadata": {
        "id": "n36mauKV36mA"
      },
      "source": [
        "import numpy as np\n",
        "import pandas as pd\n",
        "import math\n",
        "from matplotlib import pyplot as plt\n",
        "from collections import Counter"
      ],
      "execution_count": null,
      "outputs": []
    },
    {
      "cell_type": "code",
      "metadata": {
        "id": "peEeEW-w3_A1"
      },
      "source": [
        "def euclidean_distance(x1, x2):\n",
        "    return np.sqrt(np.sum((x1 - x2) ** 2))"
      ],
      "execution_count": null,
      "outputs": []
    },
    {
      "cell_type": "code",
      "metadata": {
        "id": "6do_jOGVtDcM"
      },
      "source": [
        "def distance(x1,x2,y1,y2):\n",
        "    dif1 = euclidean_distance(x1,x2)\n",
        "    dif2 = euclidean_distance(y1,y2)\n",
        "    return dif1+dif2"
      ],
      "execution_count": null,
      "outputs": []
    },
    {
      "cell_type": "code",
      "metadata": {
        "id": "Ahyq9BOlB4bd"
      },
      "source": [
        "def minorDist(vet,neighborns):\n",
        "  arrayDist = [0 for x in range(neighborns)]\n",
        "  arrayDist.clear()\n",
        "  vet.sort()\n",
        "  for i in range(neighborns):\n",
        "    arrayDist.append(vet[i])\n",
        "  return arrayDist"
      ],
      "execution_count": null,
      "outputs": []
    },
    {
      "cell_type": "code",
      "metadata": {
        "id": "G-RtyM-la-yV"
      },
      "source": [
        "def indexDist(arrayDist,minorDist,neighborns):\n",
        "  array = [0 for x in range(neighborns)]\n",
        "  array.clear()\n",
        "  for j in range(len(minorDist)):\n",
        "    for y in range(len(arrayDist)):\n",
        "      if(arrayDist[y]==minorDist[j]):\n",
        "        array.append(y)\n",
        "  return array"
      ],
      "execution_count": null,
      "outputs": []
    },
    {
      "cell_type": "code",
      "metadata": {
        "id": "4fbzgbjv2QKY"
      },
      "source": [
        "def knn(neighborns,size,xs,xy):\n",
        "  arrayDist = [0 for x in range(size)]\n",
        "  arrayIndex = [0 for x in range(size)]\n",
        "  arrayDist.clear()\n",
        "  arrayIndex.clear()\n",
        "  for i in range(size):\n",
        "    for y in range(size):\n",
        "      dist = distance(xs[i],xs[y],ys[i],ys[y])\n",
        "      if(i==y):\n",
        "        dist= 9999\n",
        "      arrayDist.append(dist)\n",
        "    auxArrayDist = arrayDist[:]\n",
        "    mD= minorDist(arrayDist,neighborns)\n",
        "    print(\"As distancias sao \",auxArrayDist)\n",
        "    print(\"As menores distancias sao \", mD)\n",
        "    iD = indexDist(auxArrayDist,mD,neighborns)\n",
        "    print(\"Os indices proximos sao \",iD)\n",
        "    arrayDist.clear()\n"
      ],
      "execution_count": null,
      "outputs": []
    },
    {
      "cell_type": "code",
      "metadata": {
        "id": "yaDPvGq--vBV"
      },
      "source": [
        "def singleKNN(neighborns,size,xs,ys,j):\n",
        "  arrayDist = [0 for x in range(size)]\n",
        "  arrayIndex = [0 for x in range(size)]\n",
        "  array = [0 for x in range(size)]\n",
        "  arrayDist.clear()\n",
        "  arrayIndex.clear()\n",
        "  array.clear()\n",
        "  for i in range(size):\n",
        "    dist = distance(xs[j],xs[i],ys[j],ys[i])\n",
        "    if(i==j):\n",
        "      dist= 9999\n",
        "    arrayDist.append(dist)\n",
        "  auxArrayDist = arrayDist[:]\n",
        "  mD= minorDist(arrayDist,neighborns)\n",
        "  iD = indexDist(auxArrayDist,mD,neighborns)\n",
        "  array.append(auxArrayDist)\n",
        "  array.append(mD)\n",
        "  array.append(iD)\n",
        "  return array"
      ],
      "execution_count": null,
      "outputs": []
    },
    {
      "cell_type": "code",
      "metadata": {
        "id": "8mIunma7_tNi"
      },
      "source": [
        "size = 5\n",
        "neighborns = 2\n",
        "xs = np.random.random_sample((size,))\n",
        "ys = np.random.random_sample((size,))"
      ],
      "execution_count": null,
      "outputs": []
    },
    {
      "cell_type": "code",
      "metadata": {
        "id": "GdSx4JQvLzr6",
        "colab": {
          "base_uri": "https://localhost:8080/"
        },
        "outputId": "08c07c26-89db-4dae-ffb2-9ddbe53bf080"
      },
      "source": [
        "xs"
      ],
      "execution_count": null,
      "outputs": [
        {
          "output_type": "execute_result",
          "data": {
            "text/plain": [
              "array([0.58549685, 0.34543321, 0.00918593, 0.212985  , 0.1188605 ])"
            ]
          },
          "metadata": {},
          "execution_count": 9
        }
      ]
    },
    {
      "cell_type": "code",
      "metadata": {
        "id": "ZulxNWy6L0a5",
        "colab": {
          "base_uri": "https://localhost:8080/"
        },
        "outputId": "c6c7fb62-8395-475f-fe61-16545bca5aef"
      },
      "source": [
        "ys"
      ],
      "execution_count": null,
      "outputs": [
        {
          "output_type": "execute_result",
          "data": {
            "text/plain": [
              "array([0.25231574, 0.01689399, 0.12082481, 0.90190889, 0.31316599])"
            ]
          },
          "metadata": {},
          "execution_count": 10
        }
      ]
    },
    {
      "cell_type": "code",
      "metadata": {
        "id": "YktoqwGHyIUP",
        "colab": {
          "base_uri": "https://localhost:8080/",
          "height": 282
        },
        "outputId": "efe7912b-045a-43bb-ea29-6d39b22f0081"
      },
      "source": [
        "plt.scatter(xs,ys)\n",
        "n = [0,1,2,3,4]\n",
        "for i, txt in enumerate(n):\n",
        "    plt.annotate(txt, (xs[i], ys[i]))\n",
        "plt.figure(figsize=(20,20))\n",
        "plt.show()"
      ],
      "execution_count": null,
      "outputs": [
        {
          "output_type": "display_data",
          "data": {
            "image/png": "[encoded data removed]",
            "text/plain": [
              "<Figure size 432x288 with 1 Axes>"
            ]
          },
          "metadata": {
            "needs_background": "light"
          }
        },
        {
          "output_type": "display_data",
          "data": {
            "text/plain": [
              "<Figure size 1440x1440 with 0 Axes>"
            ]
          },
          "metadata": {}
        }
      ]
    },
    {
      "cell_type": "code",
      "metadata": {
        "colab": {
          "base_uri": "https://localhost:8080/"
        },
        "id": "gCgDlBH87EjW",
        "outputId": "2985f5d8-29ad-4bc9-e2f2-9a6c28249535"
      },
      "source": [
        "knn(neighborns,size,xs,ys)"
      ],
      "execution_count": null,
      "outputs": [
        {
          "output_type": "stream",
          "name": "stdout",
          "text": [
            "As distancias sao  [9999, 0.4754853872379754, 0.7078018477916994, 1.022104992388047, 0.527486586001563]\n",
            "As menores distancias sao  [0.4754853872379754, 0.527486586001563]\n",
            "Os indices proximos sao  [1, 4]\n",
            "As distancias sao  [0.4754853872379754, 9999, 0.44017810778611044, 1.0174631119184738, 0.5228447055319896]\n",
            "As menores distancias sao  [0.44017810778611044, 0.4754853872379754]\n",
            "Os indices proximos sao  [2, 0]\n",
            "As distancias sao  [0.7078018477916994, 0.44017810778611044, 9999, 0.9848831515027116, 0.302015747455221]\n",
            "As menores distancias sao  [0.302015747455221, 0.44017810778611044]\n",
            "Os indices proximos sao  [4, 1]\n",
            "As distancias sao  [1.022104992388047, 1.0174631119184738, 0.9848831515027116, 9999, 0.6828674040474906]\n",
            "As menores distancias sao  [0.6828674040474906, 0.9848831515027116]\n",
            "Os indices proximos sao  [4, 2]\n",
            "As distancias sao  [0.527486586001563, 0.5228447055319896, 0.302015747455221, 0.6828674040474906, 9999]\n",
            "As menores distancias sao  [0.302015747455221, 0.5228447055319896]\n",
            "Os indices proximos sao  [2, 1]\n"
          ]
        }
      ]
    },
    {
      "cell_type": "code",
      "metadata": {
        "id": "hY4KD7a6ibWh"
      },
      "source": [
        "def flatten(input):\n",
        "    new_list = []\n",
        "    for i in input:\n",
        "        for j in i:\n",
        "            new_list.append(j)\n",
        "    return new_list"
      ],
      "execution_count": null,
      "outputs": []
    },
    {
      "cell_type": "code",
      "metadata": {
        "id": "jrkyOgkk_-bE"
      },
      "source": [
        "array = singleKNN(neighborns,size,xs,ys,0)"
      ],
      "execution_count": null,
      "outputs": []
    },
    {
      "cell_type": "code",
      "metadata": {
        "id": "ETCA7Fv3idoo"
      },
      "source": [
        "array = flatten(array)"
      ],
      "execution_count": null,
      "outputs": []
    },
    {
      "cell_type": "code",
      "metadata": {
        "colab": {
          "base_uri": "https://localhost:8080/"
        },
        "id": "vRrE4GpxitbD",
        "outputId": "debb2575-4b6c-437d-a39e-72c7c81a9778"
      },
      "source": [
        "array"
      ],
      "execution_count": null,
      "outputs": [
        {
          "output_type": "execute_result",
          "data": {
            "text/plain": [
              "[9999,\n",
              " 0.4754853872379754,\n",
              " 0.7078018477916994,\n",
              " 1.022104992388047,\n",
              " 0.527486586001563,\n",
              " 0.4754853872379754,\n",
              " 0.527486586001563,\n",
              " 1,\n",
              " 4]"
            ]
          },
          "metadata": {},
          "execution_count": 16
        }
      ]
    },
    {
      "cell_type": "markdown",
      "metadata": {
        "id": "G-TA4HH4wv1d"
      },
      "source": [
        "# KL Divergence"
      ]
    },
    {
      "cell_type": "code",
      "metadata": {
        "id": "HbVu6jpsqDx0"
      },
      "source": [
        "import math\n",
        "from scipy.stats import binom\n",
        "from numpy import random\n",
        "import seaborn as sns\n",
        "from math import log2"
      ],
      "execution_count": null,
      "outputs": []
    },
    {
      "cell_type": "code",
      "metadata": {
        "id": "nuqs-YzM55l5"
      },
      "source": [
        "N=50\n",
        "interval = 10"
      ],
      "execution_count": null,
      "outputs": []
    },
    {
      "cell_type": "code",
      "metadata": {
        "id": "ByGCxgU7xZBU",
        "colab": {
          "base_uri": "https://localhost:8080/"
        },
        "outputId": "0b014324-ebe1-43c4-94b2-177172f8e7c0"
      },
      "source": [
        "sortedNumbers = np.random.randint(interval, size=N)\n",
        "sortedNumbers"
      ],
      "execution_count": null,
      "outputs": [
        {
          "output_type": "execute_result",
          "data": {
            "text/plain": [
              "array([3, 2, 3, 7, 4, 0, 9, 9, 8, 0, 1, 7, 9, 1, 6, 9, 3, 1, 9, 3, 1, 8,\n",
              "       4, 1, 5, 1, 8, 2, 4, 8, 5, 7, 2, 9, 8, 1, 6, 7, 5, 2, 5, 9, 4, 3,\n",
              "       7, 2, 9, 9, 1, 2])"
            ]
          },
          "metadata": {},
          "execution_count": 19
        }
      ]
    },
    {
      "cell_type": "code",
      "metadata": {
        "id": "GO6L3rPt5sxR",
        "colab": {
          "base_uri": "https://localhost:8080/"
        },
        "outputId": "81c8f67c-b316-44d7-903b-3bda07e276d6"
      },
      "source": [
        "columns = [\"0\",\"1\",\"2\",\"3\",\"4\",\"5\",\"6\",\"7\",\"8\",\"9\"]\n",
        "columns"
      ],
      "execution_count": null,
      "outputs": [
        {
          "output_type": "execute_result",
          "data": {
            "text/plain": [
              "['0', '1', '2', '3', '4', '5', '6', '7', '8', '9']"
            ]
          },
          "metadata": {},
          "execution_count": 20
        }
      ]
    },
    {
      "cell_type": "code",
      "metadata": {
        "id": "O0BzjHZ58hYB"
      },
      "source": [
        "def sumRepeatNumbers(array, size):\n",
        "  totalSum = [0 for x in range(size)]\n",
        "  for i in range(len(array)):\n",
        "    totalSum[array[i]] = totalSum[array[i]]+1\n",
        "  return totalSum"
      ],
      "execution_count": null,
      "outputs": []
    },
    {
      "cell_type": "code",
      "metadata": {
        "id": "ERCeRSd9Gokc"
      },
      "source": [
        "def sumNumber(array, size):\n",
        "  totalSum = 0\n",
        "  for i in range(len(array)):\n",
        "    totalSum = totalSum + array[i]\n",
        "  return totalSum"
      ],
      "execution_count": null,
      "outputs": []
    },
    {
      "cell_type": "code",
      "metadata": {
        "id": "j7itJrpADAtF"
      },
      "source": [
        "uniformD = [1/interval for x in range(interval)]"
      ],
      "execution_count": null,
      "outputs": []
    },
    {
      "cell_type": "code",
      "metadata": {
        "id": "2oIlWVS_gnqe",
        "colab": {
          "base_uri": "https://localhost:8080/"
        },
        "outputId": "dc0366d0-773e-478e-9b6c-b5bf6b26197f"
      },
      "source": [
        "vet = sumRepeatNumbers(sortedNumbers,interval)\n",
        "vet"
      ],
      "execution_count": null,
      "outputs": [
        {
          "output_type": "execute_result",
          "data": {
            "text/plain": [
              "[2, 8, 6, 5, 4, 4, 2, 5, 5, 9]"
            ]
          },
          "metadata": {},
          "execution_count": 24
        }
      ]
    },
    {
      "cell_type": "code",
      "metadata": {
        "id": "VWKfcB0RFpwc",
        "colab": {
          "base_uri": "https://localhost:8080/"
        },
        "outputId": "247000e6-40ef-40fa-a8c2-8895fd94d754"
      },
      "source": [
        "prob =  [(vet[x]/N)*x for x in range(interval)]\n",
        "prob"
      ],
      "execution_count": null,
      "outputs": [
        {
          "output_type": "execute_result",
          "data": {
            "text/plain": [
              "[0.0,\n",
              " 0.16,\n",
              " 0.24,\n",
              " 0.30000000000000004,\n",
              " 0.32,\n",
              " 0.4,\n",
              " 0.24,\n",
              " 0.7000000000000001,\n",
              " 0.8,\n",
              " 1.6199999999999999]"
            ]
          },
          "metadata": {},
          "execution_count": 25
        }
      ]
    },
    {
      "cell_type": "code",
      "metadata": {
        "id": "08AU72kSGhfU"
      },
      "source": [
        "sumProb = sumNumber(prob,interval)"
      ],
      "execution_count": null,
      "outputs": []
    },
    {
      "cell_type": "code",
      "metadata": {
        "id": "ZiRh1nSFJLoD",
        "colab": {
          "base_uri": "https://localhost:8080/"
        },
        "outputId": "ffe73c44-e594-4712-9ca1-adb409fa640a"
      },
      "source": [
        "p = sumProb/(interval)\n",
        "p"
      ],
      "execution_count": null,
      "outputs": [
        {
          "output_type": "execute_result",
          "data": {
            "text/plain": [
              "0.47800000000000004"
            ]
          },
          "metadata": {},
          "execution_count": 27
        }
      ]
    },
    {
      "cell_type": "code",
      "metadata": {
        "id": "_r0AWl01KE38"
      },
      "source": [
        "binomialD = [binom.rvs(interval,p) for x in range(interval)]"
      ],
      "execution_count": null,
      "outputs": []
    },
    {
      "cell_type": "code",
      "metadata": {
        "colab": {
          "base_uri": "https://localhost:8080/"
        },
        "id": "kXKD6_gBKh_D",
        "outputId": "d08001e9-f138-4af1-eab5-25d16798f22a"
      },
      "source": [
        "binomialD"
      ],
      "execution_count": null,
      "outputs": [
        {
          "output_type": "execute_result",
          "data": {
            "text/plain": [
              "[4, 4, 5, 7, 5, 4, 5, 6, 5, 5]"
            ]
          },
          "metadata": {},
          "execution_count": 29
        }
      ]
    },
    {
      "cell_type": "code",
      "metadata": {
        "colab": {
          "base_uri": "https://localhost:8080/",
          "height": 282
        },
        "id": "99hrwKPZiJhG",
        "outputId": "e0e11170-2819-4ca9-db3d-f543bda273b3"
      },
      "source": [
        "plt.bar(columns, vet, color=\"red\")"
      ],
      "execution_count": null,
      "outputs": [
        {
          "output_type": "execute_result",
          "data": {
            "text/plain": [
              "<BarContainer object of 10 artists>"
            ]
          },
          "metadata": {},
          "execution_count": 30
        },
        {
          "output_type": "display_data",
          "data": {
            "image/png": "[encoded data removed]",
            "text/plain": [
              "<Figure size 432x288 with 1 Axes>"
            ]
          },
          "metadata": {
            "needs_background": "light"
          }
        }
      ]
    },
    {
      "cell_type": "code",
      "metadata": {
        "id": "9QZ3fDQ0YED3",
        "colab": {
          "base_uri": "https://localhost:8080/",
          "height": 282
        },
        "outputId": "b5c6734a-3138-47f5-e9a5-10b20dbf9177"
      },
      "source": [
        "plt.bar(columns, binomialD, color=\"red\")"
      ],
      "execution_count": null,
      "outputs": [
        {
          "output_type": "execute_result",
          "data": {
            "text/plain": [
              "<BarContainer object of 10 artists>"
            ]
          },
          "metadata": {},
          "execution_count": 31
        },
        {
          "output_type": "display_data",
          "data": {
            "image/png": "[encoded data removed]",
            "text/plain": [
              "<Figure size 432x288 with 1 Axes>"
            ]
          },
          "metadata": {
            "needs_background": "light"
          }
        }
      ]
    },
    {
      "cell_type": "code",
      "metadata": {
        "id": "OCKoO0tmYF1X",
        "colab": {
          "base_uri": "https://localhost:8080/",
          "height": 282
        },
        "outputId": "4f6b2de8-2a8a-4f0e-ba4d-99580df60c42"
      },
      "source": [
        "plt.bar(columns, uniformD, color=\"red\")"
      ],
      "execution_count": null,
      "outputs": [
        {
          "output_type": "execute_result",
          "data": {
            "text/plain": [
              "<BarContainer object of 10 artists>"
            ]
          },
          "metadata": {},
          "execution_count": 32
        },
        {
          "output_type": "display_data",
          "data": {
            "image/png": "[encoded data removed]",
            "text/plain": [
              "<Figure size 432x288 with 1 Axes>"
            ]
          },
          "metadata": {
            "needs_background": "light"
          }
        }
      ]
    },
    {
      "cell_type": "code",
      "metadata": {
        "id": "Psvd0wXbojXc"
      },
      "source": [
        "def klDivergence(p,q):\n",
        "  return sum(p[i] * log2(p[i]/q[i]) for i in range(len(p)))"
      ],
      "execution_count": null,
      "outputs": []
    },
    {
      "cell_type": "code",
      "metadata": {
        "colab": {
          "base_uri": "https://localhost:8080/"
        },
        "id": "1_zyRYmvLWqL",
        "outputId": "b9f28814-c17d-4a46-cbf4-856a2f23fcbe"
      },
      "source": [
        "klDivergence(vet,binomialD)"
      ],
      "execution_count": null,
      "outputs": [
        {
          "output_type": "execute_result",
          "data": {
            "text/plain": [
              "7.536303859652962"
            ]
          },
          "metadata": {},
          "execution_count": 36
        }
      ]
    },
    {
      "cell_type": "code",
      "metadata": {
        "colab": {
          "base_uri": "https://localhost:8080/"
        },
        "id": "n9rBSr_EXviX",
        "outputId": "55c547fc-de0b-49ce-b90a-51d95628da3b"
      },
      "source": [
        "klDivergence(vet,uniformD)"
      ],
      "execution_count": null,
      "outputs": [
        {
          "output_type": "execute_result",
          "data": {
            "text/plain": [
              "288.96442618498634"
            ]
          },
          "metadata": {},
          "execution_count": 37
        }
      ]
    },
    {
      "cell_type": "code",
      "metadata": {
        "id": "2qV8yRSBWg0X"
      },
      "source": [
        ""
      ],
      "execution_count": null,
      "outputs": []
    },
    {
      "cell_type": "code",
      "metadata": {
        "id": "D5t4OdvcytPw"
      },
      "source": [
        ""
      ],
      "execution_count": null,
      "outputs": []
    }
  ]
}